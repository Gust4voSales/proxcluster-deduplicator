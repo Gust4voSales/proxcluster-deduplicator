{
 "cells": [
  {
   "cell_type": "code",
   "execution_count": 3,
   "metadata": {},
   "outputs": [],
   "source": [
    "import pandas as pd"
   ]
  },
  {
   "cell_type": "markdown",
   "metadata": {},
   "source": [
    "# Distance function"
   ]
  },
  {
   "cell_type": "code",
   "execution_count": 21,
   "metadata": {},
   "outputs": [],
   "source": [
    "# STRING distance (title, album and artist...)\n",
    "import Levenshtein as lev\n",
    "\n",
    "def string_distance(string1: str, string2: str):\n",
    "  # x = remove_non_alphanum(string1).lower()\n",
    "  # y = remove_non_alphanum(string2).lower()\n",
    "  x = string1\n",
    "  y = string2\n",
    "  dist = lev.distance(x, y) \n",
    "\n",
    "  max_len = max(len(x), len(y))\n",
    "  if (max_len == 0):\n",
    "    return 0\n",
    "  normalized = (max_len-dist) / max_len \n",
    "  normalized_dist = 1-normalized\n",
    "  return normalized_dist"
   ]
  },
  {
   "cell_type": "code",
   "execution_count": 22,
   "metadata": {},
   "outputs": [],
   "source": [
    "title_w = 1.2\n",
    "album_w = 1\n",
    "artist_w = 1\n",
    "number_track_w = .8\n",
    "year_w = .5\n",
    "\n",
    "def distance(item: pd.Series, item2: pd.Series): \n",
    "  w_sum = 0\n",
    "\n",
    "  title_dist = 0\n",
    "  album_dist = 0\n",
    "  artist_dist = 0\n",
    "  \n",
    "  if (item['title'] and item2['title']):\n",
    "    title_dist = string_distance(item['title'], item2['title'])\n",
    "    w_sum += title_w\n",
    "\n",
    "  if (item['album'] and item2['album']):\n",
    "    album_dist = string_distance(item['album'], item2['album'])\n",
    "    w_sum += album_w\n",
    "\n",
    "  if (item['artist'] and item2['artist']):\n",
    "    artist_dist = string_distance(item['artist'], item2['artist'])\n",
    "    w_sum += artist_w\n",
    "\n",
    "  dist = ( (title_dist*title_w) + (album_dist*album_w) + (artist_dist*artist_w) ) / w_sum\n",
    "  return dist"
   ]
  },
  {
   "cell_type": "markdown",
   "metadata": {},
   "source": [
    "# Data creation\n"
   ]
  },
  {
   "cell_type": "code",
   "execution_count": 1,
   "metadata": {},
   "outputs": [
    {
     "ename": "NameError",
     "evalue": "name 'pd' is not defined",
     "output_type": "error",
     "traceback": [
      "\u001b[1;31m---------------------------------------------------------------------------\u001b[0m",
      "\u001b[1;31mNameError\u001b[0m                                 Traceback (most recent call last)",
      "Cell \u001b[1;32mIn[1], line 7\u001b[0m\n\u001b[0;32m      1\u001b[0m data \u001b[39m=\u001b[39m {\n\u001b[0;32m      2\u001b[0m     \u001b[39m'\u001b[39m\u001b[39mTID\u001b[39m\u001b[39m'\u001b[39m: [\u001b[39m'\u001b[39m\u001b[39m1\u001b[39m\u001b[39m'\u001b[39m, \u001b[39m'\u001b[39m\u001b[39m2\u001b[39m\u001b[39m'\u001b[39m, \u001b[39m'\u001b[39m\u001b[39m3\u001b[39m\u001b[39m'\u001b[39m, \u001b[39m'\u001b[39m\u001b[39m4\u001b[39m\u001b[39m'\u001b[39m, \u001b[39m'\u001b[39m\u001b[39m5\u001b[39m\u001b[39m'\u001b[39m, \u001b[39m'\u001b[39m\u001b[39m6\u001b[39m\u001b[39m'\u001b[39m, \u001b[39m'\u001b[39m\u001b[39m7\u001b[39m\u001b[39m'\u001b[39m, \u001b[39m'\u001b[39m\u001b[39m8\u001b[39m\u001b[39m'\u001b[39m],\n\u001b[0;32m      3\u001b[0m     \u001b[39m'\u001b[39m\u001b[39mtitle\u001b[39m\u001b[39m'\u001b[39m: [\u001b[39m'\u001b[39m\u001b[39mBoehmian Rhapsody\u001b[39m\u001b[39m'\u001b[39m, \u001b[39m'\u001b[39m\u001b[39mHotel California\u001b[39m\u001b[39m'\u001b[39m, \u001b[39m'\u001b[39m\u001b[39mImagine\u001b[39m\u001b[39m'\u001b[39m, \u001b[39m'\u001b[39m\u001b[39mShape of You\u001b[39m\u001b[39m'\u001b[39m, \u001b[39m'\u001b[39m\u001b[39mRolling in the Deep\u001b[39m\u001b[39m'\u001b[39m, \u001b[39m'\u001b[39m\u001b[39mImagine\u001b[39m\u001b[39m'\u001b[39m, \u001b[39m'\u001b[39m\u001b[39mBohemian Rhapsody\u001b[39m\u001b[39m'\u001b[39m, \u001b[39m'\u001b[39m\u001b[39mShape of You\u001b[39m\u001b[39m'\u001b[39m],\n\u001b[0;32m      4\u001b[0m     \u001b[39m'\u001b[39m\u001b[39martist\u001b[39m\u001b[39m'\u001b[39m: [\u001b[39m'\u001b[39m\u001b[39mQueen\u001b[39m\u001b[39m'\u001b[39m, \u001b[39m'\u001b[39m\u001b[39mEagles\u001b[39m\u001b[39m'\u001b[39m, \u001b[39m'\u001b[39m\u001b[39mJohn Lennon\u001b[39m\u001b[39m'\u001b[39m, \u001b[39m'\u001b[39m\u001b[39mEd Sheran\u001b[39m\u001b[39m'\u001b[39m, \u001b[39m'\u001b[39m\u001b[39mAdele\u001b[39m\u001b[39m'\u001b[39m, \u001b[39m'\u001b[39m\u001b[39mJohn Lennon\u001b[39m\u001b[39m'\u001b[39m, \u001b[39m'\u001b[39m\u001b[39mQueen\u001b[39m\u001b[39m'\u001b[39m, \u001b[39m'\u001b[39m\u001b[39mEd Sheeran\u001b[39m\u001b[39m'\u001b[39m],\n\u001b[0;32m      5\u001b[0m     \u001b[39m'\u001b[39m\u001b[39malbum\u001b[39m\u001b[39m'\u001b[39m: [\u001b[39m'\u001b[39m\u001b[39mA Night at the Opera\u001b[39m\u001b[39m'\u001b[39m, \u001b[39m'\u001b[39m\u001b[39mHotel California\u001b[39m\u001b[39m'\u001b[39m, \u001b[39m'\u001b[39m\u001b[39mImagine\u001b[39m\u001b[39m'\u001b[39m, \u001b[39m'\u001b[39m\u001b[39m÷\u001b[39m\u001b[39m'\u001b[39m, \u001b[39m'\u001b[39m\u001b[39m21\u001b[39m\u001b[39m'\u001b[39m, \u001b[39m'\u001b[39m\u001b[39mImagine Deluxe\u001b[39m\u001b[39m'\u001b[39m, \u001b[39m'\u001b[39m\u001b[39mGreatest Hits\u001b[39m\u001b[39m'\u001b[39m, \u001b[39m'\u001b[39m\u001b[39m÷\u001b[39m\u001b[39m'\u001b[39m]\n\u001b[0;32m      6\u001b[0m }\n\u001b[1;32m----> 7\u001b[0m df \u001b[39m=\u001b[39m pd\u001b[39m.\u001b[39mDataFrame(data)\n\u001b[0;32m      8\u001b[0m \u001b[39mprint\u001b[39m(df)\n",
      "\u001b[1;31mNameError\u001b[0m: name 'pd' is not defined"
     ]
    }
   ],
   "source": [
    "data = {\n",
    "    'TID': ['1', '2', '3', '4', '5', '6', '7', '8'],\n",
    "    'title': ['Boêhmian Rhapsody', 'Hotel California', 'Imagine', 'Shape of You', 'Rolling in the Deep', 'Imagine', 'Bohemian Rhapsody', 'Shape of You'],\n",
    "    'artist': ['Queen', 'Eagles', 'John Lennon', 'Ed Sheran', 'Adele', 'John Lennon', 'Queen', 'Ed Sheeran'],\n",
    "    'album': ['A Night at the Opera', 'Hotel California', 'Imagine', '÷', '21', 'Imagine Deluxe', 'Greatest Hits', '÷']\n",
    "}\n",
    "df = pd.DataFrame(data)\n",
    "print(df)"
   ]
  },
  {
   "cell_type": "markdown",
   "metadata": {},
   "source": [
    "# Blocking"
   ]
  },
  {
   "cell_type": "code",
   "execution_count": 24,
   "metadata": {},
   "outputs": [],
   "source": [
    "\n",
    "from modules.PhonexStaticBlocking import PhonexStaticBlocking\n",
    "\n",
    "blocker = PhonexStaticBlocking(df, 'title', 4)\n",
    "blocks = blocker.get_blocks()\n"
   ]
  },
  {
   "cell_type": "code",
   "execution_count": 25,
   "metadata": {},
   "outputs": [
    {
     "name": "stdout",
     "output_type": "stream",
     "text": [
      "  TID              title      artist                 album  block_key\n",
      "3   4       Shape of You   Ed Sheran                     ÷   0.210204\n",
      "7   8       Shape of You  Ed Sheeran                     ÷   0.210204\n",
      "0   1  Boehmian Rhapsody       Queen  A Night at the Opera   0.284223\n",
      "6   7  Bohemian Rhapsody       Queen         Greatest Hits   0.284223\n",
      "\n",
      "  TID                title       artist             album  block_key\n",
      "1   2     Hotel California       Eagles  Hotel California   0.392022\n",
      "2   3              Imagine  John Lennon           Imagine   0.435137\n",
      "5   6              Imagine  John Lennon    Imagine Deluxe   0.435137\n",
      "4   5  Rolling in the Deep        Adele                21   0.664270\n",
      "\n"
     ]
    }
   ],
   "source": [
    "for block in blocks:\n",
    "    print(block)\n",
    "    print()"
   ]
  },
  {
   "cell_type": "markdown",
   "metadata": {},
   "source": [
    "# Clustering"
   ]
  },
  {
   "cell_type": "code",
   "execution_count": 26,
   "metadata": {},
   "outputs": [
    {
     "name": "stdout",
     "output_type": "stream",
     "text": [
      "CLUSTERIZAÇÃO DO BLOCK  0\n",
      " CLUSTER:  4\n",
      "  4 Shape of You Ed Sheran ÷\n",
      "  8 Shape of You Ed Sheeran ÷\n",
      "\n",
      " CLUSTER:  1\n",
      "  1 Boehmian Rhapsody Queen A Night at the Opera\n",
      "  7 Bohemian Rhapsody Queen Greatest Hits\n",
      "\n",
      "-----------------------------\n",
      "CLUSTERIZAÇÃO DO BLOCK  1\n",
      " CLUSTER:  2\n",
      "  2 Hotel California Eagles Hotel California\n",
      "\n",
      " CLUSTER:  3\n",
      "  3 Imagine John Lennon Imagine\n",
      "  6 Imagine John Lennon Imagine Deluxe\n",
      "\n",
      " CLUSTER:  5\n",
      "  5 Rolling in the Deep Adele 21\n",
      "\n",
      "-----------------------------\n"
     ]
    }
   ],
   "source": [
    "from modules.CustomKmeans import CustomKmeans \n",
    "\n",
    "clusterized_blocks = []\n",
    "customKmeans = CustomKmeans(distanceFn=distance, uID='TID', threshold=0.35)\n",
    "\n",
    "for i, block in enumerate(blocks):\n",
    "  print('CLUSTERIZAÇÃO DO BLOCK ', i)\n",
    "\n",
    "  clusters = customKmeans.run(block)\n",
    "  \n",
    "  clusterized_blocks.append(clusters)\n",
    "\n",
    "  for cluster_key in clusters.keys():\n",
    "    print(' CLUSTER: ' , cluster_key)\n",
    "    for i, item in enumerate(clusters[cluster_key]):\n",
    "      print(' ',item['TID'], item['title'], item['artist'],  item['album'], )\n",
    "    print()\n",
    "  print('-----------------------------')\n"
   ]
  },
  {
   "cell_type": "markdown",
   "metadata": {},
   "source": [
    "# Incremental Blocking"
   ]
  },
  {
   "cell_type": "code",
   "execution_count": 7,
   "metadata": {},
   "outputs": [
    {
     "data": {
      "text/plain": [
       "'Facanhu'"
      ]
     },
     "execution_count": 7,
     "metadata": {},
     "output_type": "execute_result"
    }
   ],
   "source": [
    "import unicodedata\n",
    "\n",
    "x = 'Façanhú'\n",
    "\n"
   ]
  },
  {
   "cell_type": "code",
   "execution_count": 5,
   "metadata": {},
   "outputs": [
    {
     "name": "stdout",
     "output_type": "stream",
     "text": [
      "  TID              title artist                 album blocking_key\n",
      "0   1  Boehmian Rhapsody  Queen  A Night at the Opera         B561\n",
      "6   7  Bohemian Rhapsody  Queen         Greatest Hits         B561\n",
      "\n",
      "  TID             title  artist             album blocking_key\n",
      "1   2  Hotel California  Eagles  Hotel California         H342\n",
      "\n",
      "  TID    title       artist           album blocking_key\n",
      "2   3  Imagine  John Lennon         Imagine         I525\n",
      "5   6  Imagine  John Lennon  Imagine Deluxe         I525\n",
      "\n",
      "  TID                title artist album blocking_key\n",
      "4   5  Rolling in the Deep  Adele    21         R452\n",
      "\n",
      "  TID         title      artist album blocking_key\n",
      "3   4  Shape of You   Ed Sheran     ÷         S100\n",
      "7   8  Shape of You  Ed Sheeran     ÷         S100\n",
      "\n"
     ]
    }
   ],
   "source": [
    "from modules.SoundexBlocking import SoundexBlocking\n",
    "\n",
    "df_block2 = pd.DataFrame(data)\n",
    "\n",
    "blocker = SoundexBlocking(df_block2, 'title')\n",
    "blocks = blocker.get_blocks()\n",
    "\n",
    "for block in blocks:\n",
    "  print(block)\n",
    "  print()"
   ]
  },
  {
   "cell_type": "markdown",
   "metadata": {},
   "source": [
    "# Incremental Clustering"
   ]
  },
  {
   "cell_type": "code",
   "execution_count": 28,
   "metadata": {},
   "outputs": [],
   "source": [
    "data_incremental = {\n",
    "    'TID': ['x1', 'x2', 'x3'],\n",
    "    'title': ['Boehmian Rhapsodyyy', 'Boehmian Rhapsody','Sabreu Pega no Breu'],\n",
    "    'artist': ['Queen', 'Cover Banda', 'Mandioca'],\n",
    "    'album': ['A Night at the Opera', 'Covers artisticos', 'Duo 2010',]\n",
    "}\n",
    "df_incremental = pd.DataFrame(data_incremental)"
   ]
  },
  {
   "cell_type": "code",
   "execution_count": 29,
   "metadata": {},
   "outputs": [
    {
     "name": "stdout",
     "output_type": "stream",
     "text": [
      " CLUSTER:  4\n",
      "  4 Shape of You Ed Sheran ÷\n",
      "  8 Shape of You Ed Sheeran ÷\n",
      "\n",
      " CLUSTER:  1\n",
      "  1 Boehmian Rhapsody Queen A Night at the Opera\n",
      "  7 Bohemian Rhapsody Queen Greatest Hits\n",
      "  x1 Boehmian Rhapsodyyy Queen A Night at the Opera\n",
      "\n",
      " CLUSTER:  x2\n",
      "  x2 Boehmian Rhapsody Cover Banda Covers artisticos\n",
      "\n",
      " CLUSTER:  x3\n",
      "  x3 Sabreu Pega no Breu Mandioca Duo 2010\n",
      "\n"
     ]
    }
   ],
   "source": [
    "clusters = customKmeans.run(df_incremental, clusterized_blocks[0])\n",
    "\n",
    "for cluster_key in clusters.keys():\n",
    "  print(' CLUSTER: ' , cluster_key)\n",
    "  for i, item in enumerate(clusters[cluster_key]):\n",
    "    print(' ',item['TID'], item['title'], item['artist'],  item['album'], )\n",
    "  print()\n"
   ]
  }
 ],
 "metadata": {
  "kernelspec": {
   "display_name": "venv",
   "language": "python",
   "name": "python3"
  },
  "language_info": {
   "codemirror_mode": {
    "name": "ipython",
    "version": 3
   },
   "file_extension": ".py",
   "mimetype": "text/x-python",
   "name": "python",
   "nbconvert_exporter": "python",
   "pygments_lexer": "ipython3",
   "version": "3.10.5"
  },
  "orig_nbformat": 4
 },
 "nbformat": 4,
 "nbformat_minor": 2
}
