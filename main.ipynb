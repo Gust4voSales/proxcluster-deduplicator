{
 "cells": [
  {
   "cell_type": "code",
   "execution_count": 1,
   "metadata": {},
   "outputs": [],
   "source": [
    "import pandas as pd"
   ]
  },
  {
   "cell_type": "code",
   "execution_count": 2,
   "metadata": {},
   "outputs": [],
   "source": [
    "# STRING distance (title, album and artist...)\n",
    "import Levenshtein as lev\n",
    "\n",
    "def string_distance(string1: str, string2: str):\n",
    "  # x = remove_non_alphanum(string1).lower()\n",
    "  # y = remove_non_alphanum(string2).lower()\n",
    "  x = string1\n",
    "  y = string2\n",
    "  dist = lev.distance(x, y) \n",
    "\n",
    "  max_len = max(len(x), len(y))\n",
    "  if (max_len == 0):\n",
    "    return 0\n",
    "  normalized = (max_len-dist) / max_len \n",
    "  normalized_dist = 1-normalized\n",
    "  return normalized_dist"
   ]
  },
  {
   "cell_type": "code",
   "execution_count": 3,
   "metadata": {},
   "outputs": [],
   "source": [
    "title_w = 1.2\n",
    "album_w = 1\n",
    "artist_w = 1\n",
    "number_track_w = .8\n",
    "year_w = .5\n",
    "\n",
    "def distance(item: pd.Series, item2: pd.Series): \n",
    "  w_sum = 0\n",
    "\n",
    "  title_dist = 0\n",
    "  album_dist = 0\n",
    "  artist_dist = 0\n",
    "  \n",
    "  if (item['title'] and item2['title']):\n",
    "    title_dist = string_distance(item['title'], item2['title'])\n",
    "    w_sum += title_w\n",
    "\n",
    "  if (item['album'] and item2['album']):\n",
    "    album_dist = string_distance(item['album'], item2['album'])\n",
    "    w_sum += album_w\n",
    "\n",
    "  if (item['artist'] and item2['artist']):\n",
    "    artist_dist = string_distance(item['artist'], item2['artist'])\n",
    "    w_sum += artist_w\n",
    "\n",
    "  dist = ( (title_dist*title_w) + (album_dist*album_w) + (artist_dist*artist_w) ) / w_sum\n",
    "  return dist"
   ]
  },
  {
   "cell_type": "code",
   "execution_count": 4,
   "metadata": {},
   "outputs": [
    {
     "name": "stdout",
     "output_type": "stream",
     "text": [
      "  TID                title       artist                 album\n",
      "0   1    Boehmian Rhapsody        Queen  A Night at the Opera\n",
      "1   2     Hotel California       Eagles      Hotel California\n",
      "2   3              Imagine  John Lennon               Imagine\n",
      "3   4         Shape of You    Ed Sheran                     ÷\n",
      "4   5  Rolling in the Deep        Adele                    21\n",
      "5   6              Imagine  John Lennon        Imagine Deluxe\n",
      "6   7    Bohemian Rhapsody        Queen         Greatest Hits\n",
      "7   8         Shape of You   Ed Sheeran                     ÷\n"
     ]
    }
   ],
   "source": [
    "data = {\n",
    "    'TID': ['1', '2', '3', '4', '5', '6', '7', '8'],\n",
    "    'title': ['Boehmian Rhapsody', 'Hotel California', 'Imagine', 'Shape of You', 'Rolling in the Deep', 'Imagine', 'Bohemian Rhapsody', 'Shape of You'],\n",
    "    'artist': ['Queen', 'Eagles', 'John Lennon', 'Ed Sheran', 'Adele', 'John Lennon', 'Queen', 'Ed Sheeran'],\n",
    "    'album': ['A Night at the Opera', 'Hotel California', 'Imagine', '÷', '21', 'Imagine Deluxe', 'Greatest Hits', '÷']\n",
    "}\n",
    "df = pd.DataFrame(data)\n",
    "print(df)"
   ]
  },
  {
   "cell_type": "code",
   "execution_count": 5,
   "metadata": {},
   "outputs": [],
   "source": [
    "\n",
    "from modules.PhonexStaticBlocking import PhonexStaticBlocking\n",
    "\n",
    "blocker = PhonexStaticBlocking(df, 'title', 10)\n",
    "blocks = blocker.get_blocks()\n"
   ]
  },
  {
   "cell_type": "code",
   "execution_count": 6,
   "metadata": {},
   "outputs": [
    {
     "name": "stdout",
     "output_type": "stream",
     "text": [
      "  TID                title       artist                 album  block_key\n",
      "3   4         Shape of You    Ed Sheran                     ÷   0.210204\n",
      "7   8         Shape of You   Ed Sheeran                     ÷   0.210204\n",
      "0   1    Boehmian Rhapsody        Queen  A Night at the Opera   0.284223\n",
      "6   7    Bohemian Rhapsody        Queen         Greatest Hits   0.284223\n",
      "1   2     Hotel California       Eagles      Hotel California   0.392022\n",
      "2   3              Imagine  John Lennon               Imagine   0.435137\n",
      "5   6              Imagine  John Lennon        Imagine Deluxe   0.435137\n",
      "4   5  Rolling in the Deep        Adele                    21   0.664270\n",
      "\n"
     ]
    }
   ],
   "source": [
    "for block in blocks:\n",
    "    print(block)\n",
    "    print()"
   ]
  },
  {
   "cell_type": "code",
   "execution_count": 7,
   "metadata": {},
   "outputs": [
    {
     "name": "stdout",
     "output_type": "stream",
     "text": [
      "CLUSTERIZAÇÃO DO BLOCK  0\n",
      "(0.21020423877959135, 0.6642703960935376)\n",
      " CLUSTER:  4\n",
      "  4 Shape of You Ed Sheran ÷\n",
      "  8 Shape of You Ed Sheeran ÷\n",
      "\n",
      " CLUSTER:  1\n",
      "  1 Boehmian Rhapsody Queen A Night at the Opera\n",
      "  7 Bohemian Rhapsody Queen Greatest Hits\n",
      "\n",
      " CLUSTER:  2\n",
      "  2 Hotel California Eagles Hotel California\n",
      "\n",
      " CLUSTER:  3\n",
      "  3 Imagine John Lennon Imagine\n",
      "  6 Imagine John Lennon Imagine Deluxe\n",
      "\n",
      " CLUSTER:  5\n",
      "  5 Rolling in the Deep Adele 21\n",
      "\n",
      "-----------------------------\n"
     ]
    }
   ],
   "source": [
    "from modules.CustomKmeans import CustomKmeans \n",
    "\n",
    "customKmeans = CustomKmeans(distanceFn=distance, uID='TID', threshold=0.35)\n",
    "\n",
    "for i, block in enumerate(blocks):\n",
    "  print('CLUSTERIZAÇÃO DO BLOCK ', i)\n",
    "\n",
    "  clusters, blocks_keys = customKmeans.run(block)\n",
    "  print(blocks_keys)\n",
    "  for cluster_key in clusters.keys():\n",
    "    print(' CLUSTER: ' , cluster_key)\n",
    "    for i, item in enumerate(clusters[cluster_key]):\n",
    "      print(' ',item['TID'], item['title'], item['artist'],  item['album'], )\n",
    "    print()\n",
    "  print('-----------------------------')\n"
   ]
  },
  {
   "cell_type": "code",
   "execution_count": 8,
   "metadata": {},
   "outputs": [],
   "source": [
    "data = {\n",
    "    'TID': ['x1', 'x2'],\n",
    "    'title': ['Boehmian Rhapsodyyy', 'Sabreu Pega no Breu'],\n",
    "    'artist': ['Queen', 'Mandioca'],\n",
    "    'album': ['A Night at the Opera', 'Duo 2010',]\n",
    "}\n",
    "df_incremental = pd.DataFrame(data)"
   ]
  },
  {
   "cell_type": "code",
   "execution_count": 9,
   "metadata": {},
   "outputs": [
    {
     "name": "stdout",
     "output_type": "stream",
     "text": [
      "(0.21020423877959135, 0.6642703960935376)\n",
      " CLUSTER:  4\n",
      "  4 Shape of You Ed Sheran ÷\n",
      "  8 Shape of You Ed Sheeran ÷\n",
      "\n",
      " CLUSTER:  1\n",
      "  1 Boehmian Rhapsody Queen A Night at the Opera\n",
      "  7 Bohemian Rhapsody Queen Greatest Hits\n",
      "  x1 Boehmian Rhapsodyyy Queen A Night at the Opera\n",
      "\n",
      " CLUSTER:  2\n",
      "  2 Hotel California Eagles Hotel California\n",
      "\n",
      " CLUSTER:  3\n",
      "  3 Imagine John Lennon Imagine\n",
      "  6 Imagine John Lennon Imagine Deluxe\n",
      "\n",
      " CLUSTER:  5\n",
      "  5 Rolling in the Deep Adele 21\n",
      "\n",
      " CLUSTER:  x2\n",
      "  x2 Sabreu Pega no Breu Mandioca Duo 2010\n",
      "\n"
     ]
    }
   ],
   "source": [
    "clusters, blocks_keys = customKmeans.run(df_incremental)\n",
    "\n",
    "print(blocks_keys)\n",
    "for cluster_key in clusters.keys():\n",
    "  print(' CLUSTER: ' , cluster_key)\n",
    "  for i, item in enumerate(clusters[cluster_key]):\n",
    "    print(' ',item['TID'], item['title'], item['artist'],  item['album'], )\n",
    "  print()\n"
   ]
  }
 ],
 "metadata": {
  "kernelspec": {
   "display_name": "venv",
   "language": "python",
   "name": "python3"
  },
  "language_info": {
   "codemirror_mode": {
    "name": "ipython",
    "version": 3
   },
   "file_extension": ".py",
   "mimetype": "text/x-python",
   "name": "python",
   "nbconvert_exporter": "python",
   "pygments_lexer": "ipython3",
   "version": "3.10.5"
  },
  "orig_nbformat": 4
 },
 "nbformat": 4,
 "nbformat_minor": 2
}
