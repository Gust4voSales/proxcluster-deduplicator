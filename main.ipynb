{
 "cells": [
  {
   "cell_type": "code",
   "execution_count": 1,
   "metadata": {},
   "outputs": [],
   "source": [
    "import pandas as pd"
   ]
  },
  {
   "cell_type": "markdown",
   "metadata": {},
   "source": [
    "# Distance function"
   ]
  },
  {
   "cell_type": "code",
   "execution_count": 2,
   "metadata": {},
   "outputs": [],
   "source": [
    "# STRING distance (title, album and artist...)\n",
    "import Levenshtein as lev\n",
    "\n",
    "def string_distance(string1: str, string2: str):\n",
    "  # x = remove_non_alphanum(string1).lower()\n",
    "  # y = remove_non_alphanum(string2).lower()\n",
    "  x = string1\n",
    "  y = string2\n",
    "  dist = lev.distance(x, y) \n",
    "\n",
    "  max_len = max(len(x), len(y))\n",
    "  if (max_len == 0):\n",
    "    return 0\n",
    "  normalized = (max_len-dist) / max_len \n",
    "  normalized_dist = 1-normalized\n",
    "  return normalized_dist"
   ]
  },
  {
   "cell_type": "code",
   "execution_count": 3,
   "metadata": {},
   "outputs": [],
   "source": [
    "title_w = 1.2\n",
    "album_w = 1\n",
    "artist_w = 1\n",
    "number_track_w = .8\n",
    "year_w = .5\n",
    "\n",
    "def distance(item: pd.Series, item2: pd.Series): \n",
    "  w_sum = 0\n",
    "\n",
    "  title_dist = 0\n",
    "  album_dist = 0\n",
    "  artist_dist = 0\n",
    "  \n",
    "  if (item['title'] and item2['title']):\n",
    "    title_dist = string_distance(item['title'], item2['title'])\n",
    "    w_sum += title_w\n",
    "\n",
    "  if (item['album'] and item2['album']):\n",
    "    album_dist = string_distance(item['album'], item2['album'])\n",
    "    w_sum += album_w\n",
    "\n",
    "  if (item['artist'] and item2['artist']):\n",
    "    artist_dist = string_distance(item['artist'], item2['artist'])\n",
    "    w_sum += artist_w\n",
    "\n",
    "  dist = ( (title_dist*title_w) + (album_dist*album_w) + (artist_dist*artist_w) ) / w_sum\n",
    "  return dist"
   ]
  },
  {
   "cell_type": "markdown",
   "metadata": {},
   "source": [
    "# Data creation\n"
   ]
  },
  {
   "cell_type": "code",
   "execution_count": 4,
   "metadata": {},
   "outputs": [
    {
     "name": "stdout",
     "output_type": "stream",
     "text": [
      "  TID                title       artist                 album\n",
      "0   1    Boêhmian Rhapsody        Queen  A Night at the Opera\n",
      "1   2     Hotel California       Eagles      Hotel California\n",
      "2   3              Imagine  John Lennon               Imagine\n",
      "3   4         Shape of You    Ed Sheran                     ÷\n",
      "4   5  Rolling in the Deep        Adele                    21\n",
      "5   6              Imagine  John Lennon        Imagine Deluxe\n",
      "6   7    Bohemian Rhapsody        Queen         Greatest Hits\n",
      "7   8         Shape of You   Ed Sheeran                     ÷\n",
      "\n",
      "~~~\n",
      "\n",
      "  TID                title       artist                 album\n",
      "0  x1  Boehmian Rhapsodyyy        Queen  A Night at the Opera\n",
      "1  x2    Boehmian Rhapsody  Cover Banda     Covers artisticos\n",
      "2  x3  Sabreu Pega no Breu     Mandioca              Duo 2010\n",
      "\n",
      "~~~\n",
      "\n",
      "  TID               title           artist          album\n",
      "0  y1  A raposa e as uvas  Reninaldo Rossi  Sucessos Vol3\n",
      "1  y2        Shap1e ofYou        Ed_sheran               \n",
      "\n",
      "~~~\n",
      "\n",
      "  TID               title           artist         album\n",
      "0  z1  A raposa e as uvas  Reginaldo Rossi  Sucessos Vol\n"
     ]
    }
   ],
   "source": [
    "data = {\n",
    "    'TID': ['1', '2', '3', '4', '5', '6', '7', '8'],\n",
    "    'title': ['Boêhmian Rhapsody', 'Hotel California', 'Imagine', 'Shape of You', 'Rolling in the Deep', 'Imagine', 'Bohemian Rhapsody', 'Shape of You'],\n",
    "    'artist': ['Queen', 'Eagles', 'John Lennon', 'Ed Sheran', 'Adele', 'John Lennon', 'Queen', 'Ed Sheeran'],\n",
    "    'album': ['A Night at the Opera', 'Hotel California', 'Imagine', '÷', '21', 'Imagine Deluxe', 'Greatest Hits', '÷']\n",
    "}\n",
    "data2 = {\n",
    "    'TID': ['x1', 'x2', 'x3'],\n",
    "    'title': ['Boehmian Rhapsodyyy', 'Boehmian Rhapsody','Sabreu Pega no Breu'],\n",
    "    'artist': ['Queen', 'Cover Banda', 'Mandioca'],\n",
    "    'album': ['A Night at the Opera', 'Covers artisticos', 'Duo 2010',]\n",
    "}\n",
    "data3 = {\n",
    "    'TID': ['y1', 'y2'],\n",
    "    'title': ['A raposa e as uvas', 'Shap1e ofYou'],\n",
    "    'artist': ['Reninaldo Rossi', 'Ed_sheran'],\n",
    "    'album': ['Sucessos Vol3', '']\n",
    "}\n",
    "data4 = {\n",
    "    'TID': ['z1'],\n",
    "    'title': ['A raposa e as uvas', ],\n",
    "    'artist': ['Reginaldo Rossi', ],\n",
    "    'album': ['Sucessos Vol',]\n",
    "}\n",
    "\n",
    "df = pd.DataFrame(data)\n",
    "df2 = pd.DataFrame(data2)\n",
    "df3 = pd.DataFrame(data3)\n",
    "df4 = pd.DataFrame(data4)\n",
    "\n",
    "print(df)\n",
    "print('\\n~~~\\n')\n",
    "print(df2)\n",
    "print('\\n~~~\\n')\n",
    "print(df3)\n",
    "print('\\n~~~\\n')\n",
    "print(df4)"
   ]
  },
  {
   "cell_type": "markdown",
   "metadata": {},
   "source": [
    "# Helper functions"
   ]
  },
  {
   "cell_type": "code",
   "execution_count": 5,
   "metadata": {},
   "outputs": [],
   "source": [
    "def print_clusters(clusters_blocks):\n",
    "  for i, block_clusters in enumerate(clusters_blocks):\n",
    "    print(\"CLUSTERS DO BLOCK \", i)\n",
    "    for cluster_key in block_clusters.keys():\n",
    "      print('>>>> CLUSTER: ' , cluster_key)\n",
    "      for i, item in enumerate(block_clusters[cluster_key]):\n",
    "        print('>>>> ',item['TID'], item['title'], item['artist'],  item['album'], )\n",
    "      print()\n",
    "    print('-'*100)"
   ]
  },
  {
   "cell_type": "code",
   "execution_count": 6,
   "metadata": {},
   "outputs": [],
   "source": [
    "from modules.PhonexStaticBlocking import PhonexStaticBlocking\n",
    "from modules.SoundexBlocking import SoundexBlocking\n",
    "\n",
    "blocker = SoundexBlocking('title')\n",
    "\n",
    "def block_data(df):\n",
    "  blocks = blocker.generate_blocks(df)   \n",
    "  \n",
    "  return blocks\n",
    "\n",
    "def print_blocks(blocks):\n",
    "  for block in blocks:\n",
    "      print(block, end='\\n'*2) "
   ]
  },
  {
   "cell_type": "markdown",
   "metadata": {},
   "source": [
    "# Clustering"
   ]
  },
  {
   "cell_type": "code",
   "execution_count": 7,
   "metadata": {},
   "outputs": [],
   "source": [
    "blocks = block_data(df)"
   ]
  },
  {
   "cell_type": "code",
   "execution_count": 8,
   "metadata": {},
   "outputs": [],
   "source": [
    "from modules.CustomKmeans import CustomKmeans \n",
    "\n",
    "clusterized_blocks = []\n",
    "customKmeans = CustomKmeans(distanceFn=distance, uID='TID', threshold=0.35)\n",
    "\n",
    "for i, block in enumerate(blocks):\n",
    "  clusters = customKmeans.run(block)\n",
    "  clusterized_blocks.append(clusters)\n"
   ]
  },
  {
   "cell_type": "code",
   "execution_count": 9,
   "metadata": {},
   "outputs": [],
   "source": [
    "# print_blocks(blocks)"
   ]
  },
  {
   "cell_type": "code",
   "execution_count": 10,
   "metadata": {},
   "outputs": [
    {
     "name": "stdout",
     "output_type": "stream",
     "text": [
      "CLUSTERS DO BLOCK  0\n",
      ">>>> CLUSTER:  1\n",
      ">>>>  1 Boêhmian Rhapsody Queen A Night at the Opera\n",
      ">>>>  7 Bohemian Rhapsody Queen Greatest Hits\n",
      "\n",
      "----------------------------------------------------------------------------------------------------\n",
      "CLUSTERS DO BLOCK  1\n",
      ">>>> CLUSTER:  2\n",
      ">>>>  2 Hotel California Eagles Hotel California\n",
      "\n",
      "----------------------------------------------------------------------------------------------------\n",
      "CLUSTERS DO BLOCK  2\n",
      ">>>> CLUSTER:  3\n",
      ">>>>  3 Imagine John Lennon Imagine\n",
      ">>>>  6 Imagine John Lennon Imagine Deluxe\n",
      "\n",
      "----------------------------------------------------------------------------------------------------\n",
      "CLUSTERS DO BLOCK  3\n",
      ">>>> CLUSTER:  5\n",
      ">>>>  5 Rolling in the Deep Adele 21\n",
      "\n",
      "----------------------------------------------------------------------------------------------------\n",
      "CLUSTERS DO BLOCK  4\n",
      ">>>> CLUSTER:  4\n",
      ">>>>  4 Shape of You Ed Sheran ÷\n",
      ">>>>  8 Shape of You Ed Sheeran ÷\n",
      "\n",
      "----------------------------------------------------------------------------------------------------\n"
     ]
    }
   ],
   "source": [
    "print_clusters(clusterized_blocks)"
   ]
  },
  {
   "cell_type": "markdown",
   "metadata": {},
   "source": [
    "# Incremental Clustering"
   ]
  },
  {
   "cell_type": "code",
   "execution_count": 11,
   "metadata": {},
   "outputs": [],
   "source": [
    "blocks2 = block_data(df2) # block incremental data\n",
    "# blocks_incremental = blocker.merge_blocks(blocks, blocks_incremental) # merge blocks\n",
    "\n",
    "for block_incremental in blocks2:\n",
    "  # find index of the clusters block\n",
    "  clusters_block_index = blocker.get_row_block_index(block_incremental.iloc[0], blocks)\n",
    "  \n",
    "#   print(clusters_block_index)\n",
    "  if (clusters_block_index > -1):\n",
    "    clusters = customKmeans.run(block_incremental, clusterized_blocks[clusters_block_index])\n",
    "  else:\n",
    "    # new blocks, new cluster block\n",
    "    clusters = customKmeans.run(block_incremental)\n",
    "    clusterized_blocks.append(clusters)\n",
    "\n"
   ]
  },
  {
   "cell_type": "code",
   "execution_count": 12,
   "metadata": {},
   "outputs": [
    {
     "name": "stdout",
     "output_type": "stream",
     "text": [
      "CLUSTERS DO BLOCK  0\n",
      ">>>> CLUSTER:  1\n",
      ">>>>  1 Boêhmian Rhapsody Queen A Night at the Opera\n",
      ">>>>  7 Bohemian Rhapsody Queen Greatest Hits\n",
      ">>>>  x1 Boehmian Rhapsodyyy Queen A Night at the Opera\n",
      "\n",
      ">>>> CLUSTER:  x2\n",
      ">>>>  x2 Boehmian Rhapsody Cover Banda Covers artisticos\n",
      "\n",
      "----------------------------------------------------------------------------------------------------\n",
      "CLUSTERS DO BLOCK  1\n",
      ">>>> CLUSTER:  2\n",
      ">>>>  2 Hotel California Eagles Hotel California\n",
      "\n",
      "----------------------------------------------------------------------------------------------------\n",
      "CLUSTERS DO BLOCK  2\n",
      ">>>> CLUSTER:  3\n",
      ">>>>  3 Imagine John Lennon Imagine\n",
      ">>>>  6 Imagine John Lennon Imagine Deluxe\n",
      "\n",
      "----------------------------------------------------------------------------------------------------\n",
      "CLUSTERS DO BLOCK  3\n",
      ">>>> CLUSTER:  5\n",
      ">>>>  5 Rolling in the Deep Adele 21\n",
      "\n",
      "----------------------------------------------------------------------------------------------------\n",
      "CLUSTERS DO BLOCK  4\n",
      ">>>> CLUSTER:  4\n",
      ">>>>  4 Shape of You Ed Sheran ÷\n",
      ">>>>  8 Shape of You Ed Sheeran ÷\n",
      "\n",
      "----------------------------------------------------------------------------------------------------\n",
      "CLUSTERS DO BLOCK  5\n",
      ">>>> CLUSTER:  x3\n",
      ">>>>  x3 Sabreu Pega no Breu Mandioca Duo 2010\n",
      "\n",
      "----------------------------------------------------------------------------------------------------\n"
     ]
    }
   ],
   "source": [
    "print_clusters(clusterized_blocks)"
   ]
  },
  {
   "cell_type": "code",
   "execution_count": 13,
   "metadata": {},
   "outputs": [],
   "source": [
    "blocks3 = block_data(df3) # block incremental data\n",
    "# blocks_incremental = blocker.merge_blocks(blocks, blocks_incremental) # merge blocks\n",
    "\n",
    "for block_incremental in blocks3:\n",
    "  # find index of the clusters block\n",
    "  clusters_block_index = blocker.get_row_block_index(block_incremental.iloc[0], blocks)\n",
    "  \n",
    "  # print(clusters_block_index)\n",
    "  if (clusters_block_index > -1):\n",
    "    clusters = customKmeans.run(block_incremental, clusterized_blocks[clusters_block_index])\n",
    "  else:\n",
    "    # new blocks, new cluster block\n",
    "    clusters = customKmeans.run(block_incremental)\n",
    "    clusterized_blocks.append(clusters)"
   ]
  },
  {
   "cell_type": "code",
   "execution_count": 14,
   "metadata": {},
   "outputs": [
    {
     "name": "stdout",
     "output_type": "stream",
     "text": [
      "  TID               title           artist          album blocking_key\n",
      "0  y1  A raposa e as uvas  Reninaldo Rossi  Sucessos Vol3         A612\n",
      "\n",
      "  TID         title     artist album blocking_key\n",
      "1  y2  Shap1e ofYou  Ed_sheran               S100\n",
      "\n"
     ]
    }
   ],
   "source": [
    "print_blocks(blocks3)"
   ]
  },
  {
   "cell_type": "code",
   "execution_count": 15,
   "metadata": {},
   "outputs": [
    {
     "name": "stdout",
     "output_type": "stream",
     "text": [
      "CLUSTERS DO BLOCK  0\n",
      ">>>> CLUSTER:  1\n",
      ">>>>  1 Boêhmian Rhapsody Queen A Night at the Opera\n",
      ">>>>  7 Bohemian Rhapsody Queen Greatest Hits\n",
      ">>>>  x1 Boehmian Rhapsodyyy Queen A Night at the Opera\n",
      "\n",
      ">>>> CLUSTER:  x2\n",
      ">>>>  x2 Boehmian Rhapsody Cover Banda Covers artisticos\n",
      "\n",
      "----------------------------------------------------------------------------------------------------\n",
      "CLUSTERS DO BLOCK  1\n",
      ">>>> CLUSTER:  2\n",
      ">>>>  2 Hotel California Eagles Hotel California\n",
      "\n",
      "----------------------------------------------------------------------------------------------------\n",
      "CLUSTERS DO BLOCK  2\n",
      ">>>> CLUSTER:  3\n",
      ">>>>  3 Imagine John Lennon Imagine\n",
      ">>>>  6 Imagine John Lennon Imagine Deluxe\n",
      "\n",
      "----------------------------------------------------------------------------------------------------\n",
      "CLUSTERS DO BLOCK  3\n",
      ">>>> CLUSTER:  5\n",
      ">>>>  5 Rolling in the Deep Adele 21\n",
      "\n",
      "----------------------------------------------------------------------------------------------------\n",
      "CLUSTERS DO BLOCK  4\n",
      ">>>> CLUSTER:  4\n",
      ">>>>  4 Shape of You Ed Sheran ÷\n",
      ">>>>  8 Shape of You Ed Sheeran ÷\n",
      ">>>>  y2 Shap1e ofYou Ed_sheran \n",
      "\n",
      "----------------------------------------------------------------------------------------------------\n",
      "CLUSTERS DO BLOCK  5\n",
      ">>>> CLUSTER:  x3\n",
      ">>>>  x3 Sabreu Pega no Breu Mandioca Duo 2010\n",
      "\n",
      "----------------------------------------------------------------------------------------------------\n",
      "CLUSTERS DO BLOCK  6\n",
      ">>>> CLUSTER:  y1\n",
      ">>>>  y1 A raposa e as uvas Reninaldo Rossi Sucessos Vol3\n",
      "\n",
      "----------------------------------------------------------------------------------------------------\n"
     ]
    }
   ],
   "source": [
    "print_clusters(clusterized_blocks)"
   ]
  },
  {
   "cell_type": "markdown",
   "metadata": {},
   "source": [
    "# Evaluation"
   ]
  },
  {
   "cell_type": "code",
   "execution_count": 16,
   "metadata": {},
   "outputs": [
    {
     "name": "stdout",
     "output_type": "stream",
     "text": [
      "~~ EVALUATION ~~\n",
      "  Precision: 1.0\n",
      "  Recall: 1.0\n",
      "  F-measure: 1.0\n",
      "\n"
     ]
    }
   ],
   "source": [
    "from modules.Evaluator import Evaluator\n",
    "\n",
    "all_clusters = {}\n",
    "for clusterized_block in clusterized_blocks:\n",
    "  all_clusters.update(clusterized_block)\n",
    "\n",
    "gold_standard = [\n",
    "  # Bohemian Rhapsody duplicates\n",
    "  ['1', '7'], \n",
    "  ['1', 'x1'],\n",
    "  ['7', 'x1'],\n",
    "  # Imagine\n",
    "  ['3', '6'],\n",
    "  # Shape of You\n",
    "  ['4', '8'],\n",
    "  ['4', 'y2'],\n",
    "  ['8', 'y2'],\n",
    "]\n",
    "\n",
    "evaluator = Evaluator()\n",
    "evaluator.calculate_metrics(all_clusters, gold_standard, 'TID')\n",
    "\n",
    "print(evaluator.get_report())"
   ]
  },
  {
   "cell_type": "markdown",
   "metadata": {},
   "source": [
    "# Ded"
   ]
  },
  {
   "cell_type": "code",
   "execution_count": 17,
   "metadata": {},
   "outputs": [
    {
     "name": "stdout",
     "output_type": "stream",
     "text": [
      "CLUSTERS DO BLOCK  0\n",
      ">>>> CLUSTER:  1\n",
      ">>>>  1 Boêhmian Rhapsody Queen A Night at the Opera\n",
      ">>>>  7 Bohemian Rhapsody Queen Greatest Hits\n",
      ">>>>  x1 Boehmian Rhapsodyyy Queen A Night at the Opera\n",
      "\n",
      ">>>> CLUSTER:  x2\n",
      ">>>>  x2 Boehmian Rhapsody Cover Banda Covers artisticos\n",
      "\n",
      "----------------------------------------------------------------------------------------------------\n",
      "CLUSTERS DO BLOCK  1\n",
      ">>>> CLUSTER:  2\n",
      ">>>>  2 Hotel California Eagles Hotel California\n",
      "\n",
      "----------------------------------------------------------------------------------------------------\n",
      "CLUSTERS DO BLOCK  2\n",
      ">>>> CLUSTER:  3\n",
      ">>>>  3 Imagine John Lennon Imagine\n",
      ">>>>  6 Imagine John Lennon Imagine Deluxe\n",
      "\n",
      "----------------------------------------------------------------------------------------------------\n",
      "CLUSTERS DO BLOCK  3\n",
      ">>>> CLUSTER:  5\n",
      ">>>>  5 Rolling in the Deep Adele 21\n",
      "\n",
      "----------------------------------------------------------------------------------------------------\n",
      "CLUSTERS DO BLOCK  4\n",
      ">>>> CLUSTER:  4\n",
      ">>>>  4 Shape of You Ed Sheran ÷\n",
      ">>>>  8 Shape of You Ed Sheeran ÷\n",
      ">>>>  y2 Shap1e ofYou Ed_sheran \n",
      "\n",
      "----------------------------------------------------------------------------------------------------\n",
      "CLUSTERS DO BLOCK  5\n",
      ">>>> CLUSTER:  x3\n",
      ">>>>  x3 Sabreu Pega no Breu Mandioca Duo 2010\n",
      "\n",
      "----------------------------------------------------------------------------------------------------\n",
      "CLUSTERS DO BLOCK  6\n",
      ">>>> CLUSTER:  y1\n",
      ">>>>  y1 A raposa e as uvas Reninaldo Rossi Sucessos Vol3\n",
      ">>>>  z1 A raposa e as uvas Reginaldo Rossi Sucessos Vol\n",
      "\n",
      "----------------------------------------------------------------------------------------------------\n"
     ]
    }
   ],
   "source": [
    "from modules.Deduplicator import Deduplicator\n",
    "\n",
    "deduplicator = Deduplicator('title', distance, 'TID', 0.35)\n",
    "\n",
    "clusters = deduplicator.run(df)\n",
    "clusters = deduplicator.run(df2)\n",
    "clusters = deduplicator.run(df3)\n",
    "clusters = deduplicator.run(df4)\n",
    "\n",
    "deduplicator.print_clusters_blocks()\n"
   ]
  },
  {
   "cell_type": "code",
   "execution_count": 18,
   "metadata": {},
   "outputs": [
    {
     "name": "stdout",
     "output_type": "stream",
     "text": [
      "[['1', '7'], ['1', 'x1'], ['7', 'x1']]\n",
      "[['3', '6']]\n",
      "[['4', '8'], ['4', 'y2'], ['8', 'y2']]\n",
      "[['y1', 'z1']]\n",
      "~~ EVALUATION ~~\n",
      "  Precision: 1.0\n",
      "  Recall: 1.0\n",
      "  F-measure: 1.0\n",
      "\n"
     ]
    }
   ],
   "source": [
    "gold_standard = [\n",
    "  # Bohemian Rhapsody duplicates\n",
    "  ['1', '7'], \n",
    "  ['1', 'x1'],\n",
    "  ['7', 'x1'],\n",
    "  # Imagine\n",
    "  ['3', '6'],\n",
    "  # Shape of You\n",
    "  ['4', '8'],\n",
    "  ['4', 'y2'],\n",
    "  ['8', 'y2'],\n",
    "  # A raposa e as uvas\n",
    "  ['z1', 'y1']\n",
    "]\n",
    "\n",
    "deduplicator.evaluate(gold_standard, True)"
   ]
  }
 ],
 "metadata": {
  "kernelspec": {
   "display_name": "venv",
   "language": "python",
   "name": "python3"
  },
  "language_info": {
   "codemirror_mode": {
    "name": "ipython",
    "version": 3
   },
   "file_extension": ".py",
   "mimetype": "text/x-python",
   "name": "python",
   "nbconvert_exporter": "python",
   "pygments_lexer": "ipython3",
   "version": "3.10.5"
  },
  "orig_nbformat": 4
 },
 "nbformat": 4,
 "nbformat_minor": 2
}
