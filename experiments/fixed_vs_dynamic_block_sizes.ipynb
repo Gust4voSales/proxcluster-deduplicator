{
 "cells": [
  {
   "cell_type": "code",
   "execution_count": 4,
   "metadata": {},
   "outputs": [],
   "source": [
    "import pandas as pd\n",
    "import sys\n",
    "sys.path.append(\"../\")\n",
    "from experiments.utils.cd_information import distance, clean_db\n",
    "from modules.ProxCluster import ProxCluster\n",
    "from modules.PhonexStaticBlocking import PhonexStaticBlocking\n",
    "from modules.SoundexBlocking import SoundexBlocking\n",
    "from modules.Evaluator import Evaluator\n",
    "\n",
    "CD_DATASET_PATH = '../datasets/cd_information'"
   ]
  },
  {
   "cell_type": "markdown",
   "metadata": {},
   "source": [
    "# Experiment"
   ]
  },
  {
   "cell_type": "code",
   "execution_count": 5,
   "metadata": {},
   "outputs": [
    {
     "name": "stdout",
     "output_type": "stream",
     "text": [
      "Base toda 9763\n"
     ]
    }
   ],
   "source": [
    "df = pd.read_csv(f'{CD_DATASET_PATH}/cd.csv', delimiter=';', doublequote=False)\n",
    "\n",
    "# DATASET \n",
    "df = clean_db(df)\n",
    "\n",
    "# used for evaluation\n",
    "gold_standard_df = pd.read_csv(f'{CD_DATASET_PATH}/cd_gold.csv', delimiter=';')\n",
    "gold_standard_pairs = gold_standard_df.values.tolist()\n",
    "gold_standard_pairs = [tuple(row) for row in gold_standard_pairs]\n",
    "\n",
    "print('Base toda', len(df))"
   ]
  },
  {
   "cell_type": "code",
   "execution_count": 6,
   "metadata": {},
   "outputs": [],
   "source": [
    "prox_cluster = ProxCluster(distance, 'pk', 0.25)"
   ]
  },
  {
   "cell_type": "code",
   "execution_count": 7,
   "metadata": {},
   "outputs": [],
   "source": [
    "# helper functions\n",
    "def run_proxcluster(blocks):\n",
    "  all_clusters = {}\n",
    "\n",
    "  for block in blocks:\n",
    "    clusters = prox_cluster.run(block)\n",
    "\n",
    "    all_clusters.update(clusters)\n",
    "  return all_clusters\n",
    "\n",
    "\n",
    "def evaluate_clusters(clusters):\n",
    "  evaluator = Evaluator()\n",
    "  evaluator.calculate_metrics(clusters, gold_standard_pairs, 'pk')\n",
    "\n",
    "  print(evaluator.get_report()) "
   ]
  },
  {
   "cell_type": "markdown",
   "metadata": {},
   "source": [
    "### PhonexStaticBlocking"
   ]
  },
  {
   "cell_type": "markdown",
   "metadata": {},
   "source": [
    "#### BlockSize: 50"
   ]
  },
  {
   "cell_type": "code",
   "execution_count": 8,
   "metadata": {},
   "outputs": [
    {
     "name": "stdout",
     "output_type": "stream",
     "text": [
      "Quantidade de blocos: 196\n"
     ]
    }
   ],
   "source": [
    "blocker = PhonexStaticBlocking(df, 'title', 50)\n",
    "blocks = blocker.get_blocks()\n",
    "\n",
    "print(f\"Quantidade de blocos: {len(blocks)}\")"
   ]
  },
  {
   "cell_type": "code",
   "execution_count": 15,
   "metadata": {},
   "outputs": [],
   "source": [
    "clusters = run_proxcluster(blocks)"
   ]
  },
  {
   "cell_type": "code",
   "execution_count": 11,
   "metadata": {},
   "outputs": [
    {
     "name": "stdout",
     "output_type": "stream",
     "text": [
      "~~ EVALUATION ~~\n",
      "  Precision: 0.9629629629629629\n",
      "  Recall: 0.782608695652174\n",
      "  F-measure: 0.8634686346863469\n",
      "\n",
      "  TP: 234\n",
      "  FP: 9\n",
      "  TN: -1111\n",
      "  FN: 65\n",
      "\n"
     ]
    }
   ],
   "source": [
    "evaluate_clusters(clusters)"
   ]
  },
  {
   "cell_type": "markdown",
   "metadata": {},
   "source": [
    "#### BlockSize: 25"
   ]
  },
  {
   "cell_type": "code",
   "execution_count": 16,
   "metadata": {},
   "outputs": [
    {
     "name": "stdout",
     "output_type": "stream",
     "text": [
      "Quantidade de blocos: 391\n"
     ]
    }
   ],
   "source": [
    "blocker = PhonexStaticBlocking(df, 'title', 25)\n",
    "blocks = blocker.get_blocks()\n",
    "\n",
    "print(f\"Quantidade de blocos: {len(blocks)}\")"
   ]
  },
  {
   "cell_type": "code",
   "execution_count": 17,
   "metadata": {},
   "outputs": [],
   "source": [
    "clusters = run_proxcluster(blocks)"
   ]
  },
  {
   "cell_type": "code",
   "execution_count": 18,
   "metadata": {},
   "outputs": [
    {
     "name": "stdout",
     "output_type": "stream",
     "text": [
      "~~ EVALUATION ~~\n",
      "  Precision: 0.9617021276595744\n",
      "  Recall: 0.7558528428093646\n",
      "  F-measure: 0.846441947565543\n",
      "\n",
      "  TP: 226\n",
      "  FP: 9\n",
      "  TN: -1111\n",
      "  FN: 73\n",
      "\n"
     ]
    }
   ],
   "source": [
    "evaluate_clusters(clusters)"
   ]
  },
  {
   "cell_type": "markdown",
   "metadata": {},
   "source": [
    "#### BlockSize: 15"
   ]
  },
  {
   "cell_type": "code",
   "execution_count": 19,
   "metadata": {},
   "outputs": [
    {
     "name": "stdout",
     "output_type": "stream",
     "text": [
      "Quantidade de blocos: 651\n"
     ]
    }
   ],
   "source": [
    "blocker = PhonexStaticBlocking(df, 'title', 15)\n",
    "blocks = blocker.get_blocks()\n",
    "\n",
    "print(f\"Quantidade de blocos: {len(blocks)}\")"
   ]
  },
  {
   "cell_type": "code",
   "execution_count": 20,
   "metadata": {},
   "outputs": [],
   "source": [
    "clusters = run_proxcluster(blocks)"
   ]
  },
  {
   "cell_type": "code",
   "execution_count": 21,
   "metadata": {},
   "outputs": [
    {
     "name": "stdout",
     "output_type": "stream",
     "text": [
      "~~ EVALUATION ~~\n",
      "  Precision: 0.9694323144104804\n",
      "  Recall: 0.7424749163879598\n",
      "  F-measure: 0.8409090909090908\n",
      "\n",
      "  TP: 222\n",
      "  FP: 7\n",
      "  TN: -1111\n",
      "  FN: 77\n",
      "\n"
     ]
    }
   ],
   "source": [
    "evaluate_clusters(clusters)"
   ]
  },
  {
   "cell_type": "markdown",
   "metadata": {},
   "source": [
    "#### BlockSize: 5"
   ]
  },
  {
   "cell_type": "code",
   "execution_count": 28,
   "metadata": {},
   "outputs": [
    {
     "name": "stdout",
     "output_type": "stream",
     "text": [
      "Quantidade de blocos: 1953\n"
     ]
    }
   ],
   "source": [
    "blocker = PhonexStaticBlocking(df, 'title', 5)\n",
    "blocks = blocker.get_blocks()\n",
    "\n",
    "print(f\"Quantidade de blocos: {len(blocks)}\")"
   ]
  },
  {
   "cell_type": "code",
   "execution_count": 29,
   "metadata": {},
   "outputs": [],
   "source": [
    "clusters = run_proxcluster(blocks)"
   ]
  },
  {
   "cell_type": "code",
   "execution_count": 24,
   "metadata": {},
   "outputs": [
    {
     "name": "stdout",
     "output_type": "stream",
     "text": [
      "~~ EVALUATION ~~\n",
      "  Precision: 0.9613259668508287\n",
      "  Recall: 0.5819397993311036\n",
      "  F-measure: 0.7249999999999999\n",
      "\n",
      "  TP: 174\n",
      "  FP: 7\n",
      "  TN: -1111\n",
      "  FN: 125\n",
      "\n"
     ]
    }
   ],
   "source": [
    "evaluate_clusters(clusters)"
   ]
  },
  {
   "cell_type": "markdown",
   "metadata": {},
   "source": [
    "### SoundexBlocking"
   ]
  },
  {
   "cell_type": "code",
   "execution_count": 25,
   "metadata": {},
   "outputs": [
    {
     "name": "stdout",
     "output_type": "stream",
     "text": [
      "Quantidade de blocos: 2628\n"
     ]
    }
   ],
   "source": [
    "blocker = SoundexBlocking('title')\n",
    "blocks = blocker.generate_blocks(df)\n",
    "\n",
    "print(f\"Quantidade de blocos: {len(blocks)}\")"
   ]
  },
  {
   "cell_type": "code",
   "execution_count": 26,
   "metadata": {},
   "outputs": [],
   "source": [
    "all_clusters = {}\n",
    "\n",
    "for block in blocks:\n",
    "  clusters = prox_cluster.run(block)\n",
    "\n",
    "  all_clusters.update(clusters)"
   ]
  },
  {
   "cell_type": "code",
   "execution_count": 27,
   "metadata": {},
   "outputs": [
    {
     "name": "stdout",
     "output_type": "stream",
     "text": [
      "~~ EVALUATION ~~\n",
      "  Precision: 0.963855421686747\n",
      "  Recall: 0.802675585284281\n",
      "  F-measure: 0.8759124087591241\n",
      "\n",
      "  TP: 240\n",
      "  FP: 9\n",
      "  TN: -1111\n",
      "  FN: 59\n",
      "\n"
     ]
    }
   ],
   "source": [
    "# evaluation \n",
    "evaluator = Evaluator()\n",
    "evaluator.calculate_metrics(all_clusters, gold_standard_pairs, 'pk')\n",
    "\n",
    "print(evaluator.get_report()) "
   ]
  }
 ],
 "metadata": {
  "kernelspec": {
   "display_name": "venv",
   "language": "python",
   "name": "python3"
  },
  "language_info": {
   "codemirror_mode": {
    "name": "ipython",
    "version": 3
   },
   "file_extension": ".py",
   "mimetype": "text/x-python",
   "name": "python",
   "nbconvert_exporter": "python",
   "pygments_lexer": "ipython3",
   "version": "3.10.5"
  },
  "orig_nbformat": 4
 },
 "nbformat": 4,
 "nbformat_minor": 2
}
