{
 "cells": [
  {
   "cell_type": "code",
   "execution_count": 1,
   "metadata": {},
   "outputs": [],
   "source": [
    "import pandas as pd\n",
    "import sys\n",
    "sys.path.append(\"../\")\n",
    "from experiments.utils.cd_information import distance, clean_db\n",
    "from modules.pandas_implementations.DeduplicatorPandas import DeduplicatorPandas\n",
    "from modules.Deduplicator import Deduplicator\n",
    "\n",
    "CD_DATASET_PATH = '../datasets/cd_information'"
   ]
  },
  {
   "cell_type": "markdown",
   "metadata": {},
   "source": [
    "# Experiment"
   ]
  },
  {
   "cell_type": "code",
   "execution_count": 2,
   "metadata": {},
   "outputs": [
    {
     "name": "stdout",
     "output_type": "stream",
     "text": [
      "Base toda 9763\n"
     ]
    }
   ],
   "source": [
    "df = pd.read_csv(f'{CD_DATASET_PATH}/cd.csv', delimiter=';', doublequote=False)\n",
    "\n",
    "# DATASET \n",
    "df = clean_db(df)\n",
    "\n",
    "print('Base toda', len(df))"
   ]
  },
  {
   "cell_type": "markdown",
   "metadata": {},
   "source": [
    "### BATCH"
   ]
  },
  {
   "cell_type": "code",
   "execution_count": 6,
   "metadata": {},
   "outputs": [],
   "source": [
    "deduplicator_pandas = DeduplicatorPandas('title', distance, 'pk', 0.25)\n",
    "\n",
    "clusters_pandas = deduplicator_pandas.run(df)"
   ]
  },
  {
   "cell_type": "code",
   "execution_count": 4,
   "metadata": {},
   "outputs": [],
   "source": [
    "deduplicator = Deduplicator('title', distance, 'pk', 0.25)\n",
    "\n",
    "clusters = deduplicator.run(df)"
   ]
  }
 ],
 "metadata": {
  "kernelspec": {
   "display_name": "venv",
   "language": "python",
   "name": "python3"
  },
  "language_info": {
   "codemirror_mode": {
    "name": "ipython",
    "version": 3
   },
   "file_extension": ".py",
   "mimetype": "text/x-python",
   "name": "python",
   "nbconvert_exporter": "python",
   "pygments_lexer": "ipython3",
   "version": "3.10.5"
  },
  "orig_nbformat": 4
 },
 "nbformat": 4,
 "nbformat_minor": 2
}
