{
 "cells": [
  {
   "cell_type": "code",
   "execution_count": 1,
   "metadata": {},
   "outputs": [],
   "source": [
    "import pandas as pd\n",
    "import sys\n",
    "import numpy as np\n",
    "sys.path.append(\"../\")\n",
    "from experiments.utils.cd_information import distance, clean_db\n",
    "from modules.Deduplicator import Deduplicator\n",
    "\n",
    "CD_DATASET_PATH = '../datasets/cd_information'"
   ]
  },
  {
   "cell_type": "markdown",
   "metadata": {},
   "source": [
    "# Experiment"
   ]
  },
  {
   "cell_type": "code",
   "execution_count": 2,
   "metadata": {},
   "outputs": [
    {
     "name": "stdout",
     "output_type": "stream",
     "text": [
      "Base toda 9763\n"
     ]
    }
   ],
   "source": [
    "df = pd.read_csv(f'{CD_DATASET_PATH}/cd.csv', delimiter=';', doublequote=False)\n",
    "\n",
    "# evalutation\n",
    "gold_standard_df = pd.read_csv(f'{CD_DATASET_PATH}/cd_gold.csv', delimiter=';')\n",
    "gold_standard_pairs = gold_standard_df.values.tolist()\n",
    "gold_standard_pairs = [tuple(row) for row in gold_standard_pairs]\n",
    "\n",
    "# DATASET \n",
    "df = clean_db(df)\n",
    "\n",
    "print('Base toda', len(df))"
   ]
  },
  {
   "cell_type": "code",
   "execution_count": 3,
   "metadata": {},
   "outputs": [
    {
     "name": "stdout",
     "output_type": "stream",
     "text": [
      "Base particao 1 4881\n",
      "Base particao 2 3417\n",
      "Base particao 3 1465\n"
     ]
    }
   ],
   "source": [
    "# partitions\n",
    "total_rows = len(df)\n",
    "first_partition_rows = int(total_rows * 0.50) # 50%\n",
    "second_partition_rows = int(total_rows * 0.35) # 35%\n",
    "third_partition_rows = total_rows - first_partition_rows - second_partition_rows # 15%\n",
    "\n",
    "# Generate random indices for shuffling\n",
    "np.random.seed(42)\n",
    "indices = np.random.permutation(total_rows)\n",
    "\n",
    "# Split the indices into three partitions\n",
    "first_partition_indices = indices[:first_partition_rows]\n",
    "second_partition_indices = indices[first_partition_rows:first_partition_rows+second_partition_rows]\n",
    "third_partition_indices = indices[first_partition_rows+second_partition_rows:]\n",
    "\n",
    "# Create the three partitions\n",
    "df1 = df.loc[first_partition_indices]\n",
    "df2 = df.loc[second_partition_indices]\n",
    "df3 = df.loc[third_partition_indices]\n",
    "\n",
    "\n",
    "print('Base particao 1', len(df1))\n",
    "print('Base particao 2', len(df2))\n",
    "print('Base particao 3', len(df3))"
   ]
  },
  {
   "cell_type": "markdown",
   "metadata": {},
   "source": [
    "### BATCH"
   ]
  },
  {
   "cell_type": "code",
   "execution_count": 4,
   "metadata": {},
   "outputs": [],
   "source": [
    "deduplicator = Deduplicator('title', distance, 'pk', 0.25)\n",
    "\n",
    "clusters = deduplicator.run(df)"
   ]
  },
  {
   "cell_type": "code",
   "execution_count": 5,
   "metadata": {},
   "outputs": [
    {
     "name": "stdout",
     "output_type": "stream",
     "text": [
      "~~ EVALUATION ~~\n",
      "  Precision: 0.963855421686747\n",
      "  Recall: 0.802675585284281\n",
      "  F-measure: 0.8759124087591241\n",
      "\n",
      "  TP: 240\n",
      "  FP: 9\n",
      "  TN: -1111\n",
      "  FN: 59\n",
      "\n",
      "Comparações:  44246\n"
     ]
    }
   ],
   "source": [
    "deduplicator.evaluate(gold_standard_pairs)"
   ]
  },
  {
   "cell_type": "markdown",
   "metadata": {},
   "source": [
    "### Incremental"
   ]
  },
  {
   "cell_type": "code",
   "execution_count": 6,
   "metadata": {},
   "outputs": [],
   "source": [
    "deduplicator_inc = Deduplicator('title', distance, 'pk', 0.25)"
   ]
  },
  {
   "cell_type": "code",
   "execution_count": 7,
   "metadata": {},
   "outputs": [],
   "source": [
    "clusters_inc = deduplicator_inc.run(df1)"
   ]
  },
  {
   "cell_type": "code",
   "execution_count": 8,
   "metadata": {},
   "outputs": [],
   "source": [
    "clusters_inc = deduplicator_inc.run(df2)"
   ]
  },
  {
   "cell_type": "code",
   "execution_count": 9,
   "metadata": {},
   "outputs": [],
   "source": [
    "clusters_inc = deduplicator_inc.run(df3)"
   ]
  },
  {
   "cell_type": "code",
   "execution_count": 10,
   "metadata": {},
   "outputs": [
    {
     "name": "stdout",
     "output_type": "stream",
     "text": [
      "~~ EVALUATION ~~\n",
      "  Precision: 0.963855421686747\n",
      "  Recall: 0.802675585284281\n",
      "  F-measure: 0.8759124087591241\n",
      "\n",
      "  TP: 240\n",
      "  FP: 9\n",
      "  TN: -1111\n",
      "  FN: 59\n",
      "\n",
      "Comparações:  45096\n"
     ]
    }
   ],
   "source": [
    "deduplicator_inc.evaluate(gold_standard_pairs)"
   ]
  }
 ],
 "metadata": {
  "kernelspec": {
   "display_name": "venv",
   "language": "python",
   "name": "python3"
  },
  "language_info": {
   "codemirror_mode": {
    "name": "ipython",
    "version": 3
   },
   "file_extension": ".py",
   "mimetype": "text/x-python",
   "name": "python",
   "nbconvert_exporter": "python",
   "pygments_lexer": "ipython3",
   "version": "3.10.5"
  },
  "orig_nbformat": 4
 },
 "nbformat": 4,
 "nbformat_minor": 2
}
