{
 "cells": [
  {
   "cell_type": "code",
   "execution_count": 1,
   "metadata": {},
   "outputs": [],
   "source": [
    "import pandas as pd\n",
    "import sys\n",
    "import json\n",
    "sys.path.append(\"../../\")\n",
    "from experiments.utils.cd_information import distance, clean_db\n",
    "from modules.Deduplicator import Deduplicator\n",
    "from modules.Evaluator import Evaluator\n",
    "\n",
    "CD_DATASET_PATH = '../../datasets/cd_information'"
   ]
  },
  {
   "cell_type": "markdown",
   "metadata": {},
   "source": [
    "# Experiment"
   ]
  },
  {
   "cell_type": "code",
   "execution_count": 2,
   "metadata": {},
   "outputs": [
    {
     "name": "stdout",
     "output_type": "stream",
     "text": [
      "Base toda 9763\n"
     ]
    }
   ],
   "source": [
    "df = pd.read_csv(f'{CD_DATASET_PATH}/cd.csv', delimiter=';', doublequote=False)\n",
    "\n",
    "# evalutation\n",
    "gold_standard_df = pd.read_csv(f'{CD_DATASET_PATH}/cd_gold.csv', delimiter=';')\n",
    "gold_standard_pairs = gold_standard_df.values.tolist()\n",
    "\n",
    "# DATASET \n",
    "df = clean_db(df)\n",
    "\n",
    "print('Base toda', len(df))"
   ]
  },
  {
   "cell_type": "markdown",
   "metadata": {},
   "source": [
    "### ProxCluster"
   ]
  },
  {
   "cell_type": "code",
   "execution_count": 3,
   "metadata": {},
   "outputs": [],
   "source": [
    "deduplicator = Deduplicator('title', distance, 'pk', 0.25)\n",
    "\n",
    "clusters = deduplicator.run(df)"
   ]
  },
  {
   "cell_type": "code",
   "execution_count": 4,
   "metadata": {},
   "outputs": [
    {
     "name": "stdout",
     "output_type": "stream",
     "text": [
      "~~ EVALUATION ~~\n",
      "  Precision: 0.963855421686747\n",
      "  Recall: 0.802675585284281\n",
      "  F-measure: 0.8759124087591241\n",
      "\n",
      "  TP: 240\n",
      "  FP: 9\n",
      "  TN: -1111\n",
      "  FN: 59\n",
      "\n",
      "Comparações:  44246\n"
     ]
    }
   ],
   "source": [
    "deduplicator.evaluate(gold_standard_pairs)"
   ]
  },
  {
   "cell_type": "markdown",
   "metadata": {},
   "source": [
    "### DuDe"
   ]
  },
  {
   "cell_type": "code",
   "execution_count": 5,
   "metadata": {},
   "outputs": [
    {
     "name": "stdout",
     "output_type": "stream",
     "text": [
      "~~ EVALUATION ~~\n",
      "  Precision: 0.9534883720930233\n",
      "  Recall: 0.68561872909699\n",
      "  F-measure: 0.7976653696498054\n",
      "\n",
      "  TP: 205\n",
      "  FP: 10\n",
      "  TN: -1111\n",
      "  FN: 94\n",
      "\n"
     ]
    }
   ],
   "source": [
    "with open('./DuDe/dude_pairs.json', 'r') as json_file:\n",
    "  dude_pairs = json.load(json_file)\n",
    "\n",
    "evaluator = Evaluator()\n",
    "evaluator.calculate_metrics_with_pairs(dude_pairs, gold_standard_pairs)\n",
    "print(evaluator.get_report())"
   ]
  }
 ],
 "metadata": {
  "kernelspec": {
   "display_name": "venv",
   "language": "python",
   "name": "python3"
  },
  "language_info": {
   "codemirror_mode": {
    "name": "ipython",
    "version": 3
   },
   "file_extension": ".py",
   "mimetype": "text/x-python",
   "name": "python",
   "nbconvert_exporter": "python",
   "pygments_lexer": "ipython3",
   "version": "3.10.5"
  },
  "orig_nbformat": 4
 },
 "nbformat": 4,
 "nbformat_minor": 2
}
